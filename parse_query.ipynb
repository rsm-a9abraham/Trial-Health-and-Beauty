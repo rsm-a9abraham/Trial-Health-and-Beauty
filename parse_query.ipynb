{
 "cells": [
  {
   "cell_type": "code",
   "execution_count": 36,
   "id": "9c6cbf47",
   "metadata": {},
   "outputs": [],
   "source": [
    "import pandas as pd\n",
    "\n",
    "# Load the scored reviews parquet file\n",
    "df = pd.read_parquet('scored_reviews_hybrid.parquet')"
   ]
  },
  {
   "cell_type": "code",
   "execution_count": 28,
   "id": "c28346a9",
   "metadata": {},
   "outputs": [],
   "source": [
    "import re\n",
    "\n",
    "def parse_query(query):\n",
    "    query = query.lower()\n",
    "\n",
    "    aspects = {\n",
    "        \"durability\": [\"durable\", \"long lasting\", \"sturdy\", \"good\"],\n",
    "        \"quality\": [\"quality\", \"well made\", \"excellent\", \"good\"],\n",
    "        \"functionality\": [\"functional\", \"works\", \"effective\", \"reliable\", \"good\"],\n",
    "        \"value\": [\"cheap\", \"affordable\", \"worth\", \"expensive\", \"value\", \"good\"]\n",
    "    }\n",
    "\n",
    "    desired_aspects = []\n",
    "    matched_terms = []\n",
    "\n",
    "    # Match aspect keywords\n",
    "    for aspect, terms in aspects.items():\n",
    "        for term in terms:\n",
    "            if re.search(rf\"\\b{re.escape(term)}\\b\", query):\n",
    "                desired_aspects.append(aspect)\n",
    "                matched_terms.append(term)\n",
    "\n",
    "    # Remove matched aspect words\n",
    "    for term in set(matched_terms):\n",
    "        query = re.sub(rf\"\\b{re.escape(term)}\\b\", '', query)\n",
    "\n",
    "    # Remove filler words\n",
    "    filler_words = [\"recommend\", \"me\", \"a\", \"an\", \"the\", \"and\", \"please\", \"i\", \"want\", \"to\", \"find\", \"but\"]\n",
    "    query = re.sub(rf\"\\b({'|'.join(filler_words)})\\b\", '', query)\n",
    "\n",
    "    # Final cleanup\n",
    "    query = re.sub(r'[^a-zA-Z0-9 ]', '', query)  # remove punctuation\n",
    "    query = re.sub(r'\\s+', ' ', query).strip()\n",
    "\n",
    "    return query, list(set(desired_aspects))\n",
    "\n",
    "\n",
    "\n"
   ]
  },
  {
   "cell_type": "code",
   "execution_count": 29,
   "id": "58fed5e2",
   "metadata": {},
   "outputs": [
    {
     "data": {
      "text/plain": [
       "('mouth wash', ['quality', 'functionality', 'durability', 'value'])"
      ]
     },
     "execution_count": 29,
     "metadata": {},
     "output_type": "execute_result"
    }
   ],
   "source": [
    "parse_query(\"I want a good mouth wash\")"
   ]
  },
  {
   "cell_type": "code",
   "execution_count": 30,
   "id": "03183a07",
   "metadata": {},
   "outputs": [],
   "source": [
    "def recommend(query, df, top_n=1):\n",
    "    product_keyword, desired_aspects = parse_query(query)\n",
    "\n",
    "    if not product_keyword:\n",
    "        return \"Sorry, I couldn't figure out what product you're looking for.\"\n",
    "\n",
    "    # Filter products by title\n",
    "    matches = df[df['title'].str.contains(product_keyword, case=False, na=False)].copy()\n",
    "\n",
    "    if matches.empty:\n",
    "        return f\"Sorry, no products found matching '{product_keyword}'.\"\n",
    "\n",
    "    # Score products by desired aspects\n",
    "    if desired_aspects:\n",
    "        aspect_cols = [f\"{a}_score\" for a in desired_aspects if f\"{a}_score\" in df.columns]\n",
    "        matches[\"aspect_score\"] = matches[aspect_cols].mean(axis=1)\n",
    "    else:\n",
    "        matches[\"aspect_score\"] = 0.5  # neutral fallback\n",
    "\n",
    "    # Combine scores\n",
    "    matches[\"final_score\"] = (\n",
    "        0.4 * matches[\"aspect_score\"] +\n",
    "        0.3 * matches[\"overall_sentiment_score\"] +\n",
    "        0.3 * (matches[\"average_rating\"] / 5)\n",
    "    )\n",
    "\n",
    "    top_match = matches.sort_values(by=\"final_score\", ascending=False).iloc[0]\n",
    "\n",
    "    # Compose short paragraph\n",
    "    product = top_match[\"title\"]\n",
    "    rating = top_match[\"average_rating\"]\n",
    "    sentiment = top_match[\"overall_sentiment_score\"]\n",
    "    price = top_match[\"price\"]\n",
    "    \n",
    "    sentence = f\"I recommend **{product}**.\"\n",
    "    sentence += f\" It has an average rating of {rating:.1f}/5\"\n",
    "    if desired_aspects:\n",
    "        aspect_descriptions = []\n",
    "        for aspect in desired_aspects:\n",
    "            score = top_match.get(f\"{aspect}_score\")\n",
    "            if score is not None:\n",
    "                if score > 0.7:\n",
    "                    phrase = f\"strong {aspect}\"\n",
    "                elif score < 0.4:\n",
    "                    phrase = f\"weaker {aspect}\"\n",
    "                else:\n",
    "                    phrase = f\"moderate {aspect}\"\n",
    "                aspect_descriptions.append(phrase)\n",
    "        if aspect_descriptions:\n",
    "            sentence += f\" and shows {', '.join(aspect_descriptions)} based on customer feedback\"\n",
    "    if sentiment > 0.7:\n",
    "        sentence += \". Reviews are mostly positive\"\n",
    "    elif sentiment < 0.4:\n",
    "        sentence += \". Reviews are mixed to negative\"\n",
    "    else:\n",
    "        sentence += \". Reviews are neutral overall\"\n",
    "\n",
    "    if not pd.isna(price):\n",
    "        sentence += f\", and it's priced at ${price:.2f}.\"\n",
    "    else:\n",
    "        sentence += \".\"\n",
    "\n",
    "    return sentence\n"
   ]
  },
  {
   "cell_type": "code",
   "execution_count": 34,
   "id": "7c0c0906",
   "metadata": {},
   "outputs": [
    {
     "name": "stdout",
     "output_type": "stream",
     "text": [
      "I recommend **Propolinse Mouth Wash Travel Packets - 10 x Travel Packet (12ml / 0.41 fl oz)**. It has an average rating of 4.1/5 and shows moderate quality, strong functionality, moderate durability, strong value based on customer feedback. Reviews are mostly positive, and it's priced at $21.99.\n"
     ]
    }
   ],
   "source": [
    "print(recommend(\"Recommend me a good mouth wash\", df, top_n=2))"
   ]
  }
 ],
 "metadata": {
  "kernelspec": {
   "display_name": "Python 3",
   "language": "python",
   "name": "python3"
  },
  "language_info": {
   "codemirror_mode": {
    "name": "ipython",
    "version": 3
   },
   "file_extension": ".py",
   "mimetype": "text/x-python",
   "name": "python",
   "nbconvert_exporter": "python",
   "pygments_lexer": "ipython3",
   "version": "3.13.3"
  }
 },
 "nbformat": 4,
 "nbformat_minor": 5
}
